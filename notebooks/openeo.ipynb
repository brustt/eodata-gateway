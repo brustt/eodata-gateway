{
 "cells": [
  {
   "cell_type": "code",
   "execution_count": 2,
   "metadata": {},
   "outputs": [],
   "source": [
    "import openeo\n",
    "\n",
    "# connection = openeo.connect(\"https://earthengine.openeo.org\")\n",
    "connection = openeo.connect(\"https://openeo.dataspace.copernicus.eu/openeo/1.2\")"
   ]
  },
  {
   "cell_type": "code",
   "execution_count": 6,
   "metadata": {},
   "outputs": [
    {
     "data": {
      "text/html": [
       "Visit <a href=\"https://identity.dataspace.copernicus.eu/auth/realms/CDSE/device?user_code=WDYP-QZOF\" title=\"Authenticate at https://identity.dataspace.copernicus.eu/auth/realms/CDSE/device?user_code=WDYP-QZOF\" target=\"_blank\" rel=\"noopener noreferrer\">https://identity.dataspace.copernicus.eu/auth/realms/CDSE/device?user_code=WDYP-QZOF</a> <a href=\"#\" onclick=\"navigator.clipboard.writeText('https://identity.dataspace.copernicus.eu/auth/realms/CDSE/device?user_code=WDYP-QZOF');return false;\" title=\"Copy authentication URL to clipboard\">&#128203;</a> to authenticate."
      ]
     },
     "metadata": {},
     "output_type": "display_data"
    },
    {
     "data": {
      "text/html": [
       "✅ Authorized successfully"
      ]
     },
     "metadata": {},
     "output_type": "display_data"
    },
    {
     "data": {
      "text/plain": [
       "<Connection to 'https://openeo.dataspace.copernicus.eu/openeo/1.2' with OidcBearerAuth>"
      ]
     },
     "execution_count": 6,
     "metadata": {},
     "output_type": "execute_result"
    }
   ],
   "source": [
    "connection.authenticate_oidc_device()"
   ]
  },
  {
   "cell_type": "code",
   "execution_count": 9,
   "metadata": {},
   "outputs": [
    {
     "data": {
      "text/plain": [
       "<Connection to 'https://openeo.dataspace.copernicus.eu/openeo/1.2' with OidcBearerAuth>"
      ]
     },
     "execution_count": 9,
     "metadata": {},
     "output_type": "execute_result"
    }
   ],
   "source": [
    "connection"
   ]
  },
  {
   "cell_type": "markdown",
   "metadata": {},
   "source": [
    "3 auth modes. Seems that with copernicus oicd need some request to admin."
   ]
  },
  {
   "cell_type": "code",
   "execution_count": 10,
   "metadata": {},
   "outputs": [],
   "source": [
    "# Now that we are connected, we can initialize our datacube object with the area around Vienna \n",
    "# and the time range of interest using Sentinel 1 data.\n",
    "datacube = connection.load_collection(\"SENTINEL1_GRD\",\n",
    "    spatial_extent = {\n",
    "        \"west\": -54.61,\n",
    "        \"south\": 2.11,\n",
    "        \"east\": -51.63,\n",
    "        \"north\": 5.85\n",
    "    },\n",
    "    temporal_extent=[\"2017-03-01\", \"2017-06-01\"],\n",
    "    bands=[\"VV\"]\n",
    ")"
   ]
  },
  {
   "cell_type": "code",
   "execution_count": 11,
   "metadata": {},
   "outputs": [
    {
     "data": {
      "text/html": [
       "\n",
       "    <script>\n",
       "    if (!window.customElements || !window.customElements.get('openeo-model-builder')) {\n",
       "        var el = document.createElement('script');\n",
       "        el.src = \"https://cdn.jsdelivr.net/npm/@openeo/vue-components@2/assets/openeo.min.js\";\n",
       "        document.head.appendChild(el);\n",
       "\n",
       "        var font = document.createElement('font');\n",
       "        font.as = \"font\";\n",
       "        font.type = \"font/woff2\";\n",
       "        font.crossOrigin = true;\n",
       "        font.href = \"https://use.fontawesome.com/releases/v5.13.0/webfonts/fa-solid-900.woff2\"\n",
       "        document.head.appendChild(font);\n",
       "    }\n",
       "    </script>\n",
       "    <openeo-model-builder>\n",
       "        <script type=\"application/json\">{\"id\": \"8e9ae00366a0465f9d51d244f6134375\", \"explicit-zoom\": true, \"height\": \"400px\", \"value\": {\"process_graph\": {\"loadcollection1\": {\"process_id\": \"load_collection\", \"arguments\": {\"bands\": [\"VV\"], \"id\": \"SENTINEL1_GRD\", \"spatial_extent\": {\"west\": -54.61, \"south\": 2.11, \"east\": -51.63, \"north\": 5.85}, \"temporal_extent\": [\"2017-03-01\", \"2017-06-01\"]}, \"result\": true}}}}</script>\n",
       "    </openeo-model-builder>\n",
       "    "
      ],
      "text/plain": [
       "<openeo.rest.datacube.DataCube at 0x798689859fa0>"
      ]
     },
     "execution_count": 11,
     "metadata": {},
     "output_type": "execute_result"
    }
   ],
   "source": [
    "datacube"
   ]
  },
  {
   "cell_type": "code",
   "execution_count": 13,
   "metadata": {},
   "outputs": [],
   "source": [
    "# Since we are creating a monthly RGB composite, we need three (R, G and B) separated time ranges.\n",
    "# Therefore, we split the datacube into three datacubes by filtering temporal for March, April and May. \n",
    "march = datacube.filter_temporal(\"2017-03-01\", \"2017-04-01\")\n",
    "april = datacube.filter_temporal(\"2017-04-01\", \"2017-05-01\")\n",
    "may = datacube.filter_temporal(\"2017-05-01\", \"2017-06-01\")\n",
    "\n",
    "# Now that we split it into the correct time range, we have to aggregate the timeseries values into a single image.\n",
    "# Therefore, we make use of the Python Client function `mean_time`, which reduces the time dimension, \n",
    "# by taking for every timeseries the mean value.\n",
    "\n",
    "mean_march = march.mean_time()\n",
    "mean_april = april.mean_time()\n",
    "mean_may = may.mean_time()\n",
    "\n",
    "# Now the three images will be combined into the temporal composite. \n",
    "# Before merging them into one datacube, we need to rename the bands of the images, because otherwise, \n",
    "# they would be overwritten in the merging process.  \n",
    "# Therefore, we rename the bands of the datacubes using the `rename_labels` process to \"R\", \"G\" and \"B\".\n",
    "# After that we merge them into the \"RGB\" datacube, which has now three bands (\"R\", \"G\" and \"B\")\n",
    "\n",
    "R_band = mean_march.rename_labels(dimension=\"bands\", target=[\"R\"])\n",
    "G_band = mean_april.rename_labels(dimension=\"bands\", target=[\"G\"])\n",
    "B_band = mean_may.rename_labels(dimension=\"bands\", target=[\"B\"])\n",
    "\n",
    "RG = R_band.merge_cubes(G_band)\n",
    "RGB = RG.merge_cubes(B_band)\n",
    "\n",
    "\n",
    "# Last but not least, we add the process to save the result of the processing. There we define that \n",
    "# the result should be a GeoTiff file.\n",
    "# We also set, which band should be used for \"red\", \"green\" and \"blue\" color in the options.\n",
    "\n",
    "RGB = RGB.save_result(format=\"GTIFF\")"
   ]
  },
  {
   "cell_type": "code",
   "execution_count": 14,
   "metadata": {},
   "outputs": [
    {
     "name": "stdout",
     "output_type": "stream",
     "text": [
      "0:00:00 Job 'j-2504181524044637a5ed4a070fa95f93': send 'start'\n",
      "0:00:18 Job 'j-2504181524044637a5ed4a070fa95f93': created (progress 0%)\n",
      "0:00:24 Job 'j-2504181524044637a5ed4a070fa95f93': created (progress 0%)\n",
      "0:00:30 Job 'j-2504181524044637a5ed4a070fa95f93': created (progress 0%)\n",
      "0:00:39 Job 'j-2504181524044637a5ed4a070fa95f93': created (progress 0%)\n",
      "0:00:50 Job 'j-2504181524044637a5ed4a070fa95f93': created (progress 0%)\n",
      "0:01:02 Job 'j-2504181524044637a5ed4a070fa95f93': running (progress N/A)\n",
      "0:01:18 Job 'j-2504181524044637a5ed4a070fa95f93': running (progress N/A)\n",
      "0:01:38 Job 'j-2504181524044637a5ed4a070fa95f93': running (progress N/A)\n",
      "0:02:02 Job 'j-2504181524044637a5ed4a070fa95f93': running (progress N/A)\n",
      "0:02:33 Job 'j-2504181524044637a5ed4a070fa95f93': running (progress N/A)\n",
      "0:03:10 Job 'j-2504181524044637a5ed4a070fa95f93': running (progress N/A)\n",
      "0:03:57 Job 'j-2504181524044637a5ed4a070fa95f93': running (progress N/A)\n",
      "0:04:56 Job 'j-2504181524044637a5ed4a070fa95f93': running (progress N/A)\n",
      "0:05:57 Job 'j-2504181524044637a5ed4a070fa95f93': running (progress N/A)\n",
      "0:06:57 Job 'j-2504181524044637a5ed4a070fa95f93': running (progress N/A)\n",
      "0:07:58 Job 'j-2504181524044637a5ed4a070fa95f93': running (progress N/A)\n",
      "0:08:58 Job 'j-2504181524044637a5ed4a070fa95f93': running (progress N/A)\n",
      "0:09:58 Job 'j-2504181524044637a5ed4a070fa95f93': running (progress N/A)\n",
      "0:10:59 Job 'j-2504181524044637a5ed4a070fa95f93': running (progress N/A)\n",
      "0:12:00 Job 'j-2504181524044637a5ed4a070fa95f93': running (progress N/A)\n",
      "0:13:00 Job 'j-2504181524044637a5ed4a070fa95f93': running (progress N/A)\n",
      "0:14:01 Job 'j-2504181524044637a5ed4a070fa95f93': running (progress N/A)\n",
      "0:15:02 Job 'j-2504181524044637a5ed4a070fa95f93': running (progress N/A)\n",
      "0:16:02 Job 'j-2504181524044637a5ed4a070fa95f93': running (progress N/A)\n",
      "0:17:02 Job 'j-2504181524044637a5ed4a070fa95f93': running (progress N/A)\n",
      "0:18:03 Job 'j-2504181524044637a5ed4a070fa95f93': running (progress N/A)\n",
      "0:19:03 Job 'j-2504181524044637a5ed4a070fa95f93': running (progress N/A)\n",
      "0:20:04 Job 'j-2504181524044637a5ed4a070fa95f93': running (progress N/A)\n",
      "3 days, 3:30:25 Job 'j-2504181524044637a5ed4a070fa95f93': Connection error while polling job status: ('Connection aborted.', RemoteDisconnected('Remote end closed connection without response'))\n"
     ]
    },
    {
     "ename": "OpenEoApiError",
     "evalue": "[403] TokenInvalid: Authorization token has expired or is invalid. Please authenticate again. (ref: r-25042118550244a8ba110f3c66320a99)",
     "output_type": "error",
     "traceback": [
      "\u001b[31m---------------------------------------------------------------------------\u001b[39m",
      "\u001b[31mOpenEoApiError\u001b[39m                            Traceback (most recent call last)",
      "\u001b[36mCell\u001b[39m\u001b[36m \u001b[39m\u001b[32mIn[14]\u001b[39m\u001b[32m, line 4\u001b[39m\n\u001b[32m      1\u001b[39m \u001b[38;5;66;03m# With the last process we have finished the datacube definition and can create and start the job at the back-end.\u001b[39;00m\n\u001b[32m      3\u001b[39m job = RGB.create_job()\n\u001b[32m----> \u001b[39m\u001b[32m4\u001b[39m \u001b[43mjob\u001b[49m\u001b[43m.\u001b[49m\u001b[43mstart_and_wait\u001b[49m\u001b[43m(\u001b[49m\u001b[43m)\u001b[49m.download_results()\n",
      "\u001b[36mFile \u001b[39m\u001b[32m~/Documents/ONFI/Projects/Tests/eodata-gateway/.venv/lib/python3.12/site-packages/openeo/rest/job.py:314\u001b[39m, in \u001b[36mBatchJob.start_and_wait\u001b[39m\u001b[34m(self, print, max_poll_interval, connection_retry_interval, soft_error_max, show_error_logs)\u001b[39m\n\u001b[32m    311\u001b[39m \u001b[38;5;28;01mwhile\u001b[39;00m \u001b[38;5;28;01mTrue\u001b[39;00m:\n\u001b[32m    312\u001b[39m     \u001b[38;5;66;03m# TODO: also allow a hard time limit on this infinite poll loop?\u001b[39;00m\n\u001b[32m    313\u001b[39m     \u001b[38;5;28;01mtry\u001b[39;00m:\n\u001b[32m--> \u001b[39m\u001b[32m314\u001b[39m         job_info = \u001b[38;5;28;43mself\u001b[39;49m\u001b[43m.\u001b[49m\u001b[43mdescribe\u001b[49m\u001b[43m(\u001b[49m\u001b[43m)\u001b[49m\n\u001b[32m    315\u001b[39m     \u001b[38;5;28;01mexcept\u001b[39;00m requests.ConnectionError \u001b[38;5;28;01mas\u001b[39;00m e:\n\u001b[32m    316\u001b[39m         soft_error(\u001b[33m\"\u001b[39m\u001b[33mConnection error while polling job status: \u001b[39m\u001b[38;5;132;01m{e}\u001b[39;00m\u001b[33m\"\u001b[39m.format(e=e))\n",
      "\u001b[36mFile \u001b[39m\u001b[32m~/Documents/ONFI/Projects/Tests/eodata-gateway/.venv/lib/python3.12/site-packages/openeo/rest/job.py:81\u001b[39m, in \u001b[36mBatchJob.describe\u001b[39m\u001b[34m(self)\u001b[39m\n\u001b[32m     72\u001b[39m \u001b[38;5;129m@openeo_endpoint\u001b[39m(\u001b[33m\"\u001b[39m\u001b[33mGET /jobs/\u001b[39m\u001b[38;5;132;01m{job_id}\u001b[39;00m\u001b[33m\"\u001b[39m)\n\u001b[32m     73\u001b[39m \u001b[38;5;28;01mdef\u001b[39;00m\u001b[38;5;250m \u001b[39m\u001b[34mdescribe\u001b[39m(\u001b[38;5;28mself\u001b[39m) -> \u001b[38;5;28mdict\u001b[39m:\n\u001b[32m     74\u001b[39m \u001b[38;5;250m    \u001b[39m\u001b[33;03m\"\"\"\u001b[39;00m\n\u001b[32m     75\u001b[39m \u001b[33;03m    Get detailed metadata about a submitted batch job\u001b[39;00m\n\u001b[32m     76\u001b[39m \u001b[33;03m    (title, process graph, status, progress, ...).\u001b[39;00m\n\u001b[32m   (...)\u001b[39m\u001b[32m     79\u001b[39m \u001b[33;03m        This method was previously called :py:meth:`describe_job`.\u001b[39;00m\n\u001b[32m     80\u001b[39m \u001b[33;03m    \"\"\"\u001b[39;00m\n\u001b[32m---> \u001b[39m\u001b[32m81\u001b[39m     \u001b[38;5;28;01mreturn\u001b[39;00m \u001b[38;5;28;43mself\u001b[39;49m\u001b[43m.\u001b[49m\u001b[43mconnection\u001b[49m\u001b[43m.\u001b[49m\u001b[43mget\u001b[49m\u001b[43m(\u001b[49m\u001b[33;43mf\u001b[39;49m\u001b[33;43m\"\u001b[39;49m\u001b[33;43m/jobs/\u001b[39;49m\u001b[38;5;132;43;01m{\u001b[39;49;00m\u001b[38;5;28;43mself\u001b[39;49m\u001b[43m.\u001b[49m\u001b[43mjob_id\u001b[49m\u001b[38;5;132;43;01m}\u001b[39;49;00m\u001b[33;43m\"\u001b[39;49m\u001b[43m,\u001b[49m\u001b[43m \u001b[49m\u001b[43mexpected_status\u001b[49m\u001b[43m=\u001b[49m\u001b[32;43m200\u001b[39;49m\u001b[43m)\u001b[49m.json()\n",
      "\u001b[36mFile \u001b[39m\u001b[32m~/Documents/ONFI/Projects/Tests/eodata-gateway/.venv/lib/python3.12/site-packages/openeo/rest/_connection.py:195\u001b[39m, in \u001b[36mRestApiConnection.get\u001b[39m\u001b[34m(self, path, params, stream, auth, **kwargs)\u001b[39m\n\u001b[32m    177\u001b[39m \u001b[38;5;28;01mdef\u001b[39;00m\u001b[38;5;250m \u001b[39m\u001b[34mget\u001b[39m(\n\u001b[32m    178\u001b[39m     \u001b[38;5;28mself\u001b[39m,\n\u001b[32m    179\u001b[39m     path: \u001b[38;5;28mstr\u001b[39m,\n\u001b[32m   (...)\u001b[39m\u001b[32m    184\u001b[39m     **kwargs,\n\u001b[32m    185\u001b[39m ) -> Response:\n\u001b[32m    186\u001b[39m \u001b[38;5;250m    \u001b[39m\u001b[33;03m\"\"\"\u001b[39;00m\n\u001b[32m    187\u001b[39m \u001b[33;03m    Do GET request to REST API.\u001b[39;00m\n\u001b[32m    188\u001b[39m \n\u001b[32m   (...)\u001b[39m\u001b[32m    193\u001b[39m \u001b[33;03m    :return: response: Response\u001b[39;00m\n\u001b[32m    194\u001b[39m \u001b[33;03m    \"\"\"\u001b[39;00m\n\u001b[32m--> \u001b[39m\u001b[32m195\u001b[39m     \u001b[38;5;28;01mreturn\u001b[39;00m \u001b[38;5;28;43mself\u001b[39;49m\u001b[43m.\u001b[49m\u001b[43mrequest\u001b[49m\u001b[43m(\u001b[49m\u001b[33;43m\"\u001b[39;49m\u001b[33;43mget\u001b[39;49m\u001b[33;43m\"\u001b[39;49m\u001b[43m,\u001b[49m\u001b[43m \u001b[49m\u001b[43mpath\u001b[49m\u001b[43m=\u001b[49m\u001b[43mpath\u001b[49m\u001b[43m,\u001b[49m\u001b[43m \u001b[49m\u001b[43mparams\u001b[49m\u001b[43m=\u001b[49m\u001b[43mparams\u001b[49m\u001b[43m,\u001b[49m\u001b[43m \u001b[49m\u001b[43mstream\u001b[49m\u001b[43m=\u001b[49m\u001b[43mstream\u001b[49m\u001b[43m,\u001b[49m\u001b[43m \u001b[49m\u001b[43mauth\u001b[49m\u001b[43m=\u001b[49m\u001b[43mauth\u001b[49m\u001b[43m,\u001b[49m\u001b[43m \u001b[49m\u001b[43m*\u001b[49m\u001b[43m*\u001b[49m\u001b[43mkwargs\u001b[49m\u001b[43m)\u001b[49m\n",
      "\u001b[36mFile \u001b[39m\u001b[32m~/Documents/ONFI/Projects/Tests/eodata-gateway/.venv/lib/python3.12/site-packages/openeo/rest/connection.py:664\u001b[39m, in \u001b[36mConnection.request\u001b[39m\u001b[34m(self, method, path, headers, auth, check_error, expected_status, **kwargs)\u001b[39m\n\u001b[32m    657\u001b[39m     \u001b[38;5;28;01mreturn\u001b[39;00m \u001b[38;5;28msuper\u001b[39m(Connection, \u001b[38;5;28mself\u001b[39m).request(\n\u001b[32m    658\u001b[39m         method=method, path=path, headers=headers, auth=auth,\n\u001b[32m    659\u001b[39m         check_error=check_error, expected_status=expected_status, **kwargs,\n\u001b[32m    660\u001b[39m     )\n\u001b[32m    662\u001b[39m \u001b[38;5;28;01mtry\u001b[39;00m:\n\u001b[32m    663\u001b[39m     \u001b[38;5;66;03m# Initial request attempt\u001b[39;00m\n\u001b[32m--> \u001b[39m\u001b[32m664\u001b[39m     \u001b[38;5;28;01mreturn\u001b[39;00m \u001b[43m_request\u001b[49m\u001b[43m(\u001b[49m\u001b[43m)\u001b[49m\n\u001b[32m    665\u001b[39m \u001b[38;5;28;01mexcept\u001b[39;00m OpenEoApiError \u001b[38;5;28;01mas\u001b[39;00m api_exc:\n\u001b[32m    666\u001b[39m     \u001b[38;5;28;01mif\u001b[39;00m api_exc.http_status_code \u001b[38;5;129;01min\u001b[39;00m {\u001b[32m401\u001b[39m, \u001b[32m403\u001b[39m} \u001b[38;5;129;01mand\u001b[39;00m api_exc.code == \u001b[33m\"\u001b[39m\u001b[33mTokenInvalid\u001b[39m\u001b[33m\"\u001b[39m:\n\u001b[32m    667\u001b[39m         \u001b[38;5;66;03m# Auth token expired: can we refresh?\u001b[39;00m\n",
      "\u001b[36mFile \u001b[39m\u001b[32m~/Documents/ONFI/Projects/Tests/eodata-gateway/.venv/lib/python3.12/site-packages/openeo/rest/connection.py:657\u001b[39m, in \u001b[36mConnection.request.<locals>._request\u001b[39m\u001b[34m()\u001b[39m\n\u001b[32m    656\u001b[39m \u001b[38;5;28;01mdef\u001b[39;00m\u001b[38;5;250m \u001b[39m\u001b[34m_request\u001b[39m():\n\u001b[32m--> \u001b[39m\u001b[32m657\u001b[39m     \u001b[38;5;28;01mreturn\u001b[39;00m \u001b[38;5;28;43msuper\u001b[39;49m\u001b[43m(\u001b[49m\u001b[43mConnection\u001b[49m\u001b[43m,\u001b[49m\u001b[43m \u001b[49m\u001b[38;5;28;43mself\u001b[39;49m\u001b[43m)\u001b[49m\u001b[43m.\u001b[49m\u001b[43mrequest\u001b[49m\u001b[43m(\u001b[49m\n\u001b[32m    658\u001b[39m \u001b[43m        \u001b[49m\u001b[43mmethod\u001b[49m\u001b[43m=\u001b[49m\u001b[43mmethod\u001b[49m\u001b[43m,\u001b[49m\u001b[43m \u001b[49m\u001b[43mpath\u001b[49m\u001b[43m=\u001b[49m\u001b[43mpath\u001b[49m\u001b[43m,\u001b[49m\u001b[43m \u001b[49m\u001b[43mheaders\u001b[49m\u001b[43m=\u001b[49m\u001b[43mheaders\u001b[49m\u001b[43m,\u001b[49m\u001b[43m \u001b[49m\u001b[43mauth\u001b[49m\u001b[43m=\u001b[49m\u001b[43mauth\u001b[49m\u001b[43m,\u001b[49m\n\u001b[32m    659\u001b[39m \u001b[43m        \u001b[49m\u001b[43mcheck_error\u001b[49m\u001b[43m=\u001b[49m\u001b[43mcheck_error\u001b[49m\u001b[43m,\u001b[49m\u001b[43m \u001b[49m\u001b[43mexpected_status\u001b[49m\u001b[43m=\u001b[49m\u001b[43mexpected_status\u001b[49m\u001b[43m,\u001b[49m\u001b[43m \u001b[49m\u001b[43m*\u001b[49m\u001b[43m*\u001b[49m\u001b[43mkwargs\u001b[49m\u001b[43m,\u001b[49m\n\u001b[32m    660\u001b[39m \u001b[43m    \u001b[49m\u001b[43m)\u001b[49m\n",
      "\u001b[36mFile \u001b[39m\u001b[32m~/Documents/ONFI/Projects/Tests/eodata-gateway/.venv/lib/python3.12/site-packages/openeo/rest/_connection.py:132\u001b[39m, in \u001b[36mRestApiConnection.request\u001b[39m\u001b[34m(self, method, path, params, headers, auth, check_error, expected_status, **kwargs)\u001b[39m\n\u001b[32m    130\u001b[39m expected_status = ensure_list(expected_status) \u001b[38;5;28;01mif\u001b[39;00m expected_status \u001b[38;5;28;01melse\u001b[39;00m []\n\u001b[32m    131\u001b[39m \u001b[38;5;28;01mif\u001b[39;00m check_error \u001b[38;5;129;01mand\u001b[39;00m status >= \u001b[32m400\u001b[39m \u001b[38;5;129;01mand\u001b[39;00m status \u001b[38;5;129;01mnot\u001b[39;00m \u001b[38;5;129;01min\u001b[39;00m expected_status:\n\u001b[32m--> \u001b[39m\u001b[32m132\u001b[39m     \u001b[38;5;28;43mself\u001b[39;49m\u001b[43m.\u001b[49m\u001b[43m_raise_api_error\u001b[49m\u001b[43m(\u001b[49m\u001b[43mresp\u001b[49m\u001b[43m)\u001b[49m\n\u001b[32m    133\u001b[39m \u001b[38;5;28;01mif\u001b[39;00m expected_status \u001b[38;5;129;01mand\u001b[39;00m status \u001b[38;5;129;01mnot\u001b[39;00m \u001b[38;5;129;01min\u001b[39;00m expected_status:\n\u001b[32m    134\u001b[39m     \u001b[38;5;28;01mraise\u001b[39;00m OpenEoRestError(\n\u001b[32m    135\u001b[39m         \u001b[33m\"\u001b[39m\u001b[33mGot status code \u001b[39m\u001b[38;5;132;01m{s!r}\u001b[39;00m\u001b[33m for `\u001b[39m\u001b[38;5;132;01m{m}\u001b[39;00m\u001b[33m \u001b[39m\u001b[38;5;132;01m{p}\u001b[39;00m\u001b[33m` (expected \u001b[39m\u001b[38;5;132;01m{e!r}\u001b[39;00m\u001b[33m) with body \u001b[39m\u001b[38;5;132;01m{body}\u001b[39;00m\u001b[33m\"\u001b[39m.format(\n\u001b[32m    136\u001b[39m             m=method.upper(), p=path, s=status, e=expected_status, body=resp.text\n\u001b[32m    137\u001b[39m         )\n\u001b[32m    138\u001b[39m     )\n",
      "\u001b[36mFile \u001b[39m\u001b[32m~/Documents/ONFI/Projects/Tests/eodata-gateway/.venv/lib/python3.12/site-packages/openeo/rest/_connection.py:154\u001b[39m, in \u001b[36mRestApiConnection._raise_api_error\u001b[39m\u001b[34m(self, response)\u001b[39m\n\u001b[32m    152\u001b[39m     error_message = info.get(\u001b[33m\"\u001b[39m\u001b[33mmessage\u001b[39m\u001b[33m\"\u001b[39m)\n\u001b[32m    153\u001b[39m     \u001b[38;5;28;01mif\u001b[39;00m error_code \u001b[38;5;129;01mand\u001b[39;00m \u001b[38;5;28misinstance\u001b[39m(error_code, \u001b[38;5;28mstr\u001b[39m) \u001b[38;5;129;01mand\u001b[39;00m error_message \u001b[38;5;129;01mand\u001b[39;00m \u001b[38;5;28misinstance\u001b[39m(error_message, \u001b[38;5;28mstr\u001b[39m):\n\u001b[32m--> \u001b[39m\u001b[32m154\u001b[39m         \u001b[38;5;28;01mraise\u001b[39;00m OpenEoApiError(\n\u001b[32m    155\u001b[39m             http_status_code=status_code,\n\u001b[32m    156\u001b[39m             code=error_code,\n\u001b[32m    157\u001b[39m             message=error_message,\n\u001b[32m    158\u001b[39m             \u001b[38;5;28mid\u001b[39m=info.get(\u001b[33m\"\u001b[39m\u001b[33mid\u001b[39m\u001b[33m\"\u001b[39m),\n\u001b[32m    159\u001b[39m             url=info.get(\u001b[33m\"\u001b[39m\u001b[33murl\u001b[39m\u001b[33m\"\u001b[39m),\n\u001b[32m    160\u001b[39m         )\n\u001b[32m    162\u001b[39m \u001b[38;5;66;03m# Failed to parse it as a compliant openEO API error: show body as-is in the exception.\u001b[39;00m\n\u001b[32m    163\u001b[39m text = response.text\n",
      "\u001b[31mOpenEoApiError\u001b[39m: [403] TokenInvalid: Authorization token has expired or is invalid. Please authenticate again. (ref: r-25042118550244a8ba110f3c66320a99)"
     ]
    }
   ],
   "source": [
    "# With the last process we have finished the datacube definition and can create and start the job at the back-end.\n",
    "\n",
    "job = RGB.create_job()\n",
    "job.start_and_wait().download_results()"
   ]
  },
  {
   "cell_type": "code",
   "execution_count": null,
   "metadata": {},
   "outputs": [],
   "source": []
  }
 ],
 "metadata": {
  "kernelspec": {
   "display_name": ".venv",
   "language": "python",
   "name": "python3"
  },
  "language_info": {
   "codemirror_mode": {
    "name": "ipython",
    "version": 3
   },
   "file_extension": ".py",
   "mimetype": "text/x-python",
   "name": "python",
   "nbconvert_exporter": "python",
   "pygments_lexer": "ipython3",
   "version": "3.12.8"
  }
 },
 "nbformat": 4,
 "nbformat_minor": 2
}
